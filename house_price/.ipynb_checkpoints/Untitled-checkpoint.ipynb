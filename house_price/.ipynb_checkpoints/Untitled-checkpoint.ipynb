{
 "cells": [
  {
   "cell_type": "markdown",
   "metadata": {},
   "source": [
    "# 資料前處理"
   ]
  },
  {
   "cell_type": "code",
   "execution_count": 1,
   "metadata": {
    "scrolled": true
   },
   "outputs": [
    {
     "ename": "KeyError",
     "evalue": "0",
     "output_type": "error",
     "traceback": [
      "\u001b[1;31m---------------------------------------------------------------------------\u001b[0m",
      "\u001b[1;31mKeyError\u001b[0m                                  Traceback (most recent call last)",
      "\u001b[1;32m<ipython-input-1-6d3e17447dd5>\u001b[0m in \u001b[0;36m<module>\u001b[1;34m\u001b[0m\n\u001b[0;32m     37\u001b[0m \u001b[0mtrain_df\u001b[0m\u001b[1;33m[\u001b[0m\u001b[1;34m'ExterCond'\u001b[0m\u001b[1;33m]\u001b[0m \u001b[1;33m=\u001b[0m \u001b[0mtrain_df\u001b[0m\u001b[1;33m[\u001b[0m\u001b[1;34m'ExterCond'\u001b[0m\u001b[1;33m]\u001b[0m\u001b[1;33m.\u001b[0m\u001b[0mapply\u001b[0m\u001b[1;33m(\u001b[0m\u001b[1;32mlambda\u001b[0m \u001b[0mx\u001b[0m\u001b[1;33m:\u001b[0m \u001b[0mscore_dict\u001b[0m\u001b[1;33m[\u001b[0m\u001b[0mx\u001b[0m\u001b[1;33m]\u001b[0m\u001b[1;33m)\u001b[0m\u001b[1;33m.\u001b[0m\u001b[0mastype\u001b[0m\u001b[1;33m(\u001b[0m\u001b[1;34m'int32'\u001b[0m\u001b[1;33m)\u001b[0m\u001b[1;33m\u001b[0m\u001b[1;33m\u001b[0m\u001b[0m\n\u001b[0;32m     38\u001b[0m \u001b[0mtest_df\u001b[0m\u001b[1;33m[\u001b[0m\u001b[1;34m'ExterCond'\u001b[0m\u001b[1;33m]\u001b[0m \u001b[1;33m=\u001b[0m \u001b[0mtest_df\u001b[0m\u001b[1;33m[\u001b[0m\u001b[1;34m'ExterCond'\u001b[0m\u001b[1;33m]\u001b[0m\u001b[1;33m.\u001b[0m\u001b[0mapply\u001b[0m\u001b[1;33m(\u001b[0m\u001b[1;32mlambda\u001b[0m \u001b[0mx\u001b[0m\u001b[1;33m:\u001b[0m \u001b[0mscore_dict\u001b[0m\u001b[1;33m[\u001b[0m\u001b[0mx\u001b[0m\u001b[1;33m]\u001b[0m\u001b[1;33m)\u001b[0m\u001b[1;33m.\u001b[0m\u001b[0mastype\u001b[0m\u001b[1;33m(\u001b[0m\u001b[1;34m'int32'\u001b[0m\u001b[1;33m)\u001b[0m\u001b[1;33m\u001b[0m\u001b[1;33m\u001b[0m\u001b[0m\n\u001b[1;32m---> 39\u001b[1;33m \u001b[0mtrain_df\u001b[0m\u001b[1;33m[\u001b[0m\u001b[1;34m'BsmtCond'\u001b[0m\u001b[1;33m]\u001b[0m \u001b[1;33m=\u001b[0m \u001b[0mtrain_df\u001b[0m\u001b[1;33m[\u001b[0m\u001b[1;34m'BsmtCond'\u001b[0m\u001b[1;33m]\u001b[0m\u001b[1;33m.\u001b[0m\u001b[0mapply\u001b[0m\u001b[1;33m(\u001b[0m\u001b[1;32mlambda\u001b[0m \u001b[0mx\u001b[0m\u001b[1;33m:\u001b[0m \u001b[0mscore_dict\u001b[0m\u001b[1;33m[\u001b[0m\u001b[0mx\u001b[0m\u001b[1;33m]\u001b[0m\u001b[1;33m)\u001b[0m\u001b[1;33m.\u001b[0m\u001b[0mastype\u001b[0m\u001b[1;33m(\u001b[0m\u001b[1;34m'int32'\u001b[0m\u001b[1;33m)\u001b[0m\u001b[1;33m\u001b[0m\u001b[1;33m\u001b[0m\u001b[0m\n\u001b[0m\u001b[0;32m     40\u001b[0m \u001b[0mtest_df\u001b[0m\u001b[1;33m[\u001b[0m\u001b[1;34m'BsmtCond'\u001b[0m\u001b[1;33m]\u001b[0m \u001b[1;33m=\u001b[0m \u001b[0mtest_df\u001b[0m\u001b[1;33m[\u001b[0m\u001b[1;34m'BsmtCond'\u001b[0m\u001b[1;33m]\u001b[0m\u001b[1;33m.\u001b[0m\u001b[0mapply\u001b[0m\u001b[1;33m(\u001b[0m\u001b[1;32mlambda\u001b[0m \u001b[0mx\u001b[0m\u001b[1;33m:\u001b[0m \u001b[0mscore_dict\u001b[0m\u001b[1;33m[\u001b[0m\u001b[0mx\u001b[0m\u001b[1;33m]\u001b[0m\u001b[1;33m)\u001b[0m\u001b[1;33m.\u001b[0m\u001b[0mastype\u001b[0m\u001b[1;33m(\u001b[0m\u001b[1;34m'int32'\u001b[0m\u001b[1;33m)\u001b[0m\u001b[1;33m\u001b[0m\u001b[1;33m\u001b[0m\u001b[0m\n\u001b[0;32m     41\u001b[0m \u001b[0mtrain_df\u001b[0m\u001b[1;33m[\u001b[0m\u001b[1;34m'HeatingQC'\u001b[0m\u001b[1;33m]\u001b[0m \u001b[1;33m=\u001b[0m \u001b[0mtrain_df\u001b[0m\u001b[1;33m[\u001b[0m\u001b[1;34m'HeatingQC'\u001b[0m\u001b[1;33m]\u001b[0m\u001b[1;33m.\u001b[0m\u001b[0mapply\u001b[0m\u001b[1;33m(\u001b[0m\u001b[1;32mlambda\u001b[0m \u001b[0mx\u001b[0m\u001b[1;33m:\u001b[0m \u001b[0mscore_dict\u001b[0m\u001b[1;33m[\u001b[0m\u001b[0mx\u001b[0m\u001b[1;33m]\u001b[0m\u001b[1;33m)\u001b[0m\u001b[1;33m.\u001b[0m\u001b[0mastype\u001b[0m\u001b[1;33m(\u001b[0m\u001b[1;34m'int32'\u001b[0m\u001b[1;33m)\u001b[0m\u001b[1;33m\u001b[0m\u001b[1;33m\u001b[0m\u001b[0m\n",
      "\u001b[1;32mc:\\users\\lclee\\appdata\\local\\programs\\python\\python36\\lib\\site-packages\\pandas\\core\\series.py\u001b[0m in \u001b[0;36mapply\u001b[1;34m(self, func, convert_dtype, args, **kwds)\u001b[0m\n\u001b[0;32m   4036\u001b[0m             \u001b[1;32melse\u001b[0m\u001b[1;33m:\u001b[0m\u001b[1;33m\u001b[0m\u001b[1;33m\u001b[0m\u001b[0m\n\u001b[0;32m   4037\u001b[0m                 \u001b[0mvalues\u001b[0m \u001b[1;33m=\u001b[0m \u001b[0mself\u001b[0m\u001b[1;33m.\u001b[0m\u001b[0mastype\u001b[0m\u001b[1;33m(\u001b[0m\u001b[0mobject\u001b[0m\u001b[1;33m)\u001b[0m\u001b[1;33m.\u001b[0m\u001b[0mvalues\u001b[0m\u001b[1;33m\u001b[0m\u001b[1;33m\u001b[0m\u001b[0m\n\u001b[1;32m-> 4038\u001b[1;33m                 \u001b[0mmapped\u001b[0m \u001b[1;33m=\u001b[0m \u001b[0mlib\u001b[0m\u001b[1;33m.\u001b[0m\u001b[0mmap_infer\u001b[0m\u001b[1;33m(\u001b[0m\u001b[0mvalues\u001b[0m\u001b[1;33m,\u001b[0m \u001b[0mf\u001b[0m\u001b[1;33m,\u001b[0m \u001b[0mconvert\u001b[0m\u001b[1;33m=\u001b[0m\u001b[0mconvert_dtype\u001b[0m\u001b[1;33m)\u001b[0m\u001b[1;33m\u001b[0m\u001b[1;33m\u001b[0m\u001b[0m\n\u001b[0m\u001b[0;32m   4039\u001b[0m \u001b[1;33m\u001b[0m\u001b[0m\n\u001b[0;32m   4040\u001b[0m         \u001b[1;32mif\u001b[0m \u001b[0mlen\u001b[0m\u001b[1;33m(\u001b[0m\u001b[0mmapped\u001b[0m\u001b[1;33m)\u001b[0m \u001b[1;32mand\u001b[0m \u001b[0misinstance\u001b[0m\u001b[1;33m(\u001b[0m\u001b[0mmapped\u001b[0m\u001b[1;33m[\u001b[0m\u001b[1;36m0\u001b[0m\u001b[1;33m]\u001b[0m\u001b[1;33m,\u001b[0m \u001b[0mSeries\u001b[0m\u001b[1;33m)\u001b[0m\u001b[1;33m:\u001b[0m\u001b[1;33m\u001b[0m\u001b[1;33m\u001b[0m\u001b[0m\n",
      "\u001b[1;32mpandas\\_libs\\lib.pyx\u001b[0m in \u001b[0;36mpandas._libs.lib.map_infer\u001b[1;34m()\u001b[0m\n",
      "\u001b[1;32m<ipython-input-1-6d3e17447dd5>\u001b[0m in \u001b[0;36m<lambda>\u001b[1;34m(x)\u001b[0m\n\u001b[0;32m     37\u001b[0m \u001b[0mtrain_df\u001b[0m\u001b[1;33m[\u001b[0m\u001b[1;34m'ExterCond'\u001b[0m\u001b[1;33m]\u001b[0m \u001b[1;33m=\u001b[0m \u001b[0mtrain_df\u001b[0m\u001b[1;33m[\u001b[0m\u001b[1;34m'ExterCond'\u001b[0m\u001b[1;33m]\u001b[0m\u001b[1;33m.\u001b[0m\u001b[0mapply\u001b[0m\u001b[1;33m(\u001b[0m\u001b[1;32mlambda\u001b[0m \u001b[0mx\u001b[0m\u001b[1;33m:\u001b[0m \u001b[0mscore_dict\u001b[0m\u001b[1;33m[\u001b[0m\u001b[0mx\u001b[0m\u001b[1;33m]\u001b[0m\u001b[1;33m)\u001b[0m\u001b[1;33m.\u001b[0m\u001b[0mastype\u001b[0m\u001b[1;33m(\u001b[0m\u001b[1;34m'int32'\u001b[0m\u001b[1;33m)\u001b[0m\u001b[1;33m\u001b[0m\u001b[1;33m\u001b[0m\u001b[0m\n\u001b[0;32m     38\u001b[0m \u001b[0mtest_df\u001b[0m\u001b[1;33m[\u001b[0m\u001b[1;34m'ExterCond'\u001b[0m\u001b[1;33m]\u001b[0m \u001b[1;33m=\u001b[0m \u001b[0mtest_df\u001b[0m\u001b[1;33m[\u001b[0m\u001b[1;34m'ExterCond'\u001b[0m\u001b[1;33m]\u001b[0m\u001b[1;33m.\u001b[0m\u001b[0mapply\u001b[0m\u001b[1;33m(\u001b[0m\u001b[1;32mlambda\u001b[0m \u001b[0mx\u001b[0m\u001b[1;33m:\u001b[0m \u001b[0mscore_dict\u001b[0m\u001b[1;33m[\u001b[0m\u001b[0mx\u001b[0m\u001b[1;33m]\u001b[0m\u001b[1;33m)\u001b[0m\u001b[1;33m.\u001b[0m\u001b[0mastype\u001b[0m\u001b[1;33m(\u001b[0m\u001b[1;34m'int32'\u001b[0m\u001b[1;33m)\u001b[0m\u001b[1;33m\u001b[0m\u001b[1;33m\u001b[0m\u001b[0m\n\u001b[1;32m---> 39\u001b[1;33m \u001b[0mtrain_df\u001b[0m\u001b[1;33m[\u001b[0m\u001b[1;34m'BsmtCond'\u001b[0m\u001b[1;33m]\u001b[0m \u001b[1;33m=\u001b[0m \u001b[0mtrain_df\u001b[0m\u001b[1;33m[\u001b[0m\u001b[1;34m'BsmtCond'\u001b[0m\u001b[1;33m]\u001b[0m\u001b[1;33m.\u001b[0m\u001b[0mapply\u001b[0m\u001b[1;33m(\u001b[0m\u001b[1;32mlambda\u001b[0m \u001b[0mx\u001b[0m\u001b[1;33m:\u001b[0m \u001b[0mscore_dict\u001b[0m\u001b[1;33m[\u001b[0m\u001b[0mx\u001b[0m\u001b[1;33m]\u001b[0m\u001b[1;33m)\u001b[0m\u001b[1;33m.\u001b[0m\u001b[0mastype\u001b[0m\u001b[1;33m(\u001b[0m\u001b[1;34m'int32'\u001b[0m\u001b[1;33m)\u001b[0m\u001b[1;33m\u001b[0m\u001b[1;33m\u001b[0m\u001b[0m\n\u001b[0m\u001b[0;32m     40\u001b[0m \u001b[0mtest_df\u001b[0m\u001b[1;33m[\u001b[0m\u001b[1;34m'BsmtCond'\u001b[0m\u001b[1;33m]\u001b[0m \u001b[1;33m=\u001b[0m \u001b[0mtest_df\u001b[0m\u001b[1;33m[\u001b[0m\u001b[1;34m'BsmtCond'\u001b[0m\u001b[1;33m]\u001b[0m\u001b[1;33m.\u001b[0m\u001b[0mapply\u001b[0m\u001b[1;33m(\u001b[0m\u001b[1;32mlambda\u001b[0m \u001b[0mx\u001b[0m\u001b[1;33m:\u001b[0m \u001b[0mscore_dict\u001b[0m\u001b[1;33m[\u001b[0m\u001b[0mx\u001b[0m\u001b[1;33m]\u001b[0m\u001b[1;33m)\u001b[0m\u001b[1;33m.\u001b[0m\u001b[0mastype\u001b[0m\u001b[1;33m(\u001b[0m\u001b[1;34m'int32'\u001b[0m\u001b[1;33m)\u001b[0m\u001b[1;33m\u001b[0m\u001b[1;33m\u001b[0m\u001b[0m\n\u001b[0;32m     41\u001b[0m \u001b[0mtrain_df\u001b[0m\u001b[1;33m[\u001b[0m\u001b[1;34m'HeatingQC'\u001b[0m\u001b[1;33m]\u001b[0m \u001b[1;33m=\u001b[0m \u001b[0mtrain_df\u001b[0m\u001b[1;33m[\u001b[0m\u001b[1;34m'HeatingQC'\u001b[0m\u001b[1;33m]\u001b[0m\u001b[1;33m.\u001b[0m\u001b[0mapply\u001b[0m\u001b[1;33m(\u001b[0m\u001b[1;32mlambda\u001b[0m \u001b[0mx\u001b[0m\u001b[1;33m:\u001b[0m \u001b[0mscore_dict\u001b[0m\u001b[1;33m[\u001b[0m\u001b[0mx\u001b[0m\u001b[1;33m]\u001b[0m\u001b[1;33m)\u001b[0m\u001b[1;33m.\u001b[0m\u001b[0mastype\u001b[0m\u001b[1;33m(\u001b[0m\u001b[1;34m'int32'\u001b[0m\u001b[1;33m)\u001b[0m\u001b[1;33m\u001b[0m\u001b[1;33m\u001b[0m\u001b[0m\n",
      "\u001b[1;31mKeyError\u001b[0m: 0"
     ]
    }
   ],
   "source": [
    "import pandas as pd\n",
    "import numpy as np\n",
    "from sklearn.model_selection import train_test_split\n",
    "from sklearn.preprocessing import MinMaxScaler\n",
    "from sklearn.ensemble import IsolationForest\n",
    "\n",
    "data_path = \"data\"\n",
    "\n",
    "train_df = pd.read_csv(data_path+\"/train.csv\")\n",
    "test_df = pd.read_csv(data_path+\"/test.csv\")\n",
    "\n",
    "# 保存ID\n",
    "test_id = test_df.Id\n",
    "\n",
    "# 填補缺失值，填補0\n",
    "for col in test_df:\n",
    "    if test_df[col].dtypes == 'object':\n",
    "        train_df.fillna('None',inplace=True)\n",
    "        test_df.fillna('None',inplace=True)\n",
    "    else:\n",
    "        train_df.fillna(0,inplace=True)\n",
    "        test_df.fillna(0,inplace=True)\n",
    "    \n",
    "\n",
    "# 替換字串\n",
    "LotShape_dict = {'Reg':0,'IR1':1,'IR2':2,'IR3':3,'None':-1}\n",
    "score_dict = {'Ex':5 ,'Gd':4 ,'TA':3 ,'Fa':2 ,'Po':1, 'NA':-1, 'None':-1}\n",
    "BsmtExposure_dict = {'Gd':4, 'Av':3, 'Mn':2, 'No':1, 'NA':-1, 'None':-1}\n",
    "BsmtFinType_dict = {'GLQ':5 ,'ALQ':4 ,'BLQ':3 ,'Rec':2 ,'LwQ':1 ,'Unf':0 ,'NA':-1 ,'None':-1}\n",
    "CentralAir_dict = {'N':0 , 'Y':1}\n",
    "\n",
    "train_df['LotShape'] = train_df['LotShape'].apply(lambda x: LotShape_dict[x]).astype('int32')\n",
    "test_df['LotShape'] = test_df['LotShape'].apply(lambda x: LotShape_dict[x]).astype('int32')\n",
    "\n",
    "train_df['ExterQual'] = train_df['ExterQual'].apply(lambda x: score_dict[x]).astype('int32')\n",
    "test_df['ExterQual'] = test_df['ExterQual'].apply(lambda x: score_dict[x]).astype('int32')\n",
    "train_df['ExterCond'] = train_df['ExterCond'].apply(lambda x: score_dict[x]).astype('int32')\n",
    "test_df['ExterCond'] = test_df['ExterCond'].apply(lambda x: score_dict[x]).astype('int32')\n",
    "train_df['BsmtCond'] = train_df['BsmtCond'].apply(lambda x: score_dict[x]).astype('int32')\n",
    "test_df['BsmtCond'] = test_df['BsmtCond'].apply(lambda x: score_dict[x]).astype('int32')\n",
    "train_df['HeatingQC'] = train_df['HeatingQC'].apply(lambda x: score_dict[x]).astype('int32')\n",
    "test_df['HeatingQC'] = test_df['HeatingQC'].apply(lambda x: score_dict[x]).astype('int32')\n",
    "train_df['KitchenQual'] = train_df['KitchenQual'].apply(lambda x: score_dict[x]).astype('int32')\n",
    "test_df['KitchenQual'] = test_df['KitchenQual'].apply(lambda x: score_dict[x]).astype('int32')\n",
    "train_df['FireplaceQu'] = train_df['FireplaceQu'].apply(lambda x: score_dict[x]).astype('int32')\n",
    "test_df['FireplaceQu'] = test_df['FireplaceQu'].apply(lambda x: score_dict[x]).astype('int32')\n",
    "train_df['GarageQual'] = train_df['GarageQual'].apply(lambda x: score_dict[x]).astype('int32')\n",
    "test_df['GarageQual'] = test_df['GarageQual'].apply(lambda x: score_dict[x]).astype('int32')\n",
    "train_df['GarageCond'] = train_df['GarageCond'].apply(lambda x: score_dict[x]).astype('int32')\n",
    "test_df['GarageCond'] = test_df['GarageCond'].apply(lambda x: score_dict[x]).astype('int32')\n",
    "train_df['PoolQC'] = train_df['PoolQC'].apply(lambda x: score_dict[x]).astype('int32')\n",
    "test_df['PoolQC'] = test_df['PoolQC'].apply(lambda x: score_dict[x]).astype('int32')\n",
    "\n",
    "train_df['BsmtExposure'] = train_df['BsmtExposure'].apply(lambda x: BsmtExposure_dict[x]).astype('int32')\n",
    "test_df['BsmtExposure'] = test_df['BsmtExposure'].apply(lambda x: BsmtExposure_dict[x]).astype('int32')\n",
    "\n",
    "train_df['BsmtFinType1'] = train_df['BsmtFinType1'].apply(lambda x: BsmtFinType_dict[x]).astype('int32')\n",
    "test_df['BsmtFinType1'] = test_df['BsmtFinType1'].apply(lambda x: BsmtFinType_dict[x]).astype('int32')\n",
    "train_df['BsmtFinType2'] = train_df['BsmtFinType2'].apply(lambda x: BsmtFinType_dict[x]).astype('int32')\n",
    "test_df['BsmtFinType2'] = test_df['BsmtFinType2'].apply(lambda x: BsmtFinType_dict[x]).astype('int32')\n",
    "\n",
    "train_df['CentralAir'] = train_df['CentralAir'].apply(lambda x: CentralAir_dict[x]).astype('int32')\n",
    "test_df['CentralAir'] = test_df['CentralAir'].apply(lambda x: CentralAir_dict[x]).astype('int32')\n",
    "\n",
    "# 指選取非類別的feature\n",
    "train_df = train_df.select_dtypes(exclude=['object'])\n",
    "test_df = test_df.select_dtypes(exclude=['object'])\n",
    "\n",
    "# 消除無意義的數值欄位\n",
    "nomeans_num_col = ['MSSubClass']\n",
    "train_df = train_df.drop(columns=nomeans_num_col)\n",
    "test_df = test_df.drop(columns=nomeans_num_col)\n",
    "\n",
    "train_len = train_df.shape[0]\n",
    "test_len = test_df.shape[0]\n",
    "\n",
    "# isolation forest\n",
    "isof = IsolationForest()\n",
    "isof.fit(train_df)\n",
    "y_noano = isof.predict(train_df)\n",
    "normal_index = pd.DataFrame(y_noano,columns=['normal_index'],index=train_df.index)\n",
    "# 僅保留資料正常值，y_noano為1者\n",
    "train_df = train_df[normal_index['normal_index']==1]\n",
    "\n",
    "\n",
    "df_train_y = train_df['SalePrice'].values.reshape(-1,1)\n",
    "price_scaler = MinMaxScaler()\n",
    "price_scaler.fit(df_train_y)\n",
    "norm_train_y = price_scaler.transform(df_train_y)\n",
    "norm_train_y = pd.DataFrame(norm_train_y,columns=['price'])\n",
    "\n",
    "train_df.drop(columns=['SalePrice','Id'],inplace=True)\n",
    "test_df.drop(columns=['Id'],inplace=True)\n",
    "\n",
    "# normalized\n",
    "train_len = train_df.shape[0]\n",
    "test_len = test_df.shape[0]\n",
    "\n",
    "min_scaler = MinMaxScaler()\n",
    "df = pd.concat([train_df,test_df],sort=False)\n",
    "\n",
    "for col in df:\n",
    "    df[col] = min_scaler.fit_transform(df[col].values.reshape(-1,1))\n",
    "\n",
    "norm_train_x = df[0:train_len]\n",
    "norm_test_x = df[train_len:]\n",
    "\n",
    "# 建立validation set\n",
    "train_x, val_x, train_y, val_y = train_test_split(norm_train_x,norm_train_y)\n",
    "train_x.head()\n"
   ]
  },
  {
   "cell_type": "markdown",
   "metadata": {},
   "source": [
    "# 建立模型"
   ]
  },
  {
   "cell_type": "code",
   "execution_count": null,
   "metadata": {
    "scrolled": true
   },
   "outputs": [],
   "source": [
    "import keras\n",
    "\n",
    "\n",
    "layer_list = [keras.layers.Dense(100,kernel_initializer='normal',input_shape=(train_x.shape[1],),activation='selu'),\n",
    "              keras.layers.Dense(50,kernel_initializer='normal',activation='selu'),\n",
    "              keras.layers.Dense(25,kernel_initializer='normal',activation='selu'),\n",
    "             keras.layers.Dense(1)]\n",
    "\n",
    "model = keras.Sequential(layer_list)\n",
    "model.compile(loss='mean_squared_error',\n",
    "             optimizer=keras.optimizers.Adam())\n",
    "\n",
    "training_process = model.fit(train_x,train_y,\n",
    "                            epochs=50,\n",
    "                            batch_size=10,\n",
    "                            validation_data=(val_x,val_y))\n"
   ]
  },
  {
   "cell_type": "code",
   "execution_count": null,
   "metadata": {},
   "outputs": [],
   "source": [
    "import matplotlib.pyplot as plt\n",
    "\n",
    "plt.title('Loss')\n",
    "plt.xlabel('epochs')\n",
    "plt.ylabel('loss')\n",
    "plt.plot(training_process.history['loss'])\n",
    "plt.plot(training_process.history['val_loss'])\n",
    "plt.show()"
   ]
  },
  {
   "cell_type": "code",
   "execution_count": null,
   "metadata": {},
   "outputs": [],
   "source": [
    "predict_norm = model.predict(norm_test_x)\n",
    "predict = price_scaler.inverse_transform(predict_norm)\n",
    "\n",
    "# 做成Dataframe\n",
    "predict = pd.DataFrame(predict,columns=['SalePrice'])\n",
    "output_df = pd.concat([test_id,predict],axis=1)\n",
    "output_df.to_csv('res.csv',index=False)\n",
    "output_df.head()\n"
   ]
  }
 ],
 "metadata": {
  "kernelspec": {
   "display_name": "Python 3",
   "language": "python",
   "name": "python3"
  },
  "language_info": {
   "codemirror_mode": {
    "name": "ipython",
    "version": 3
   },
   "file_extension": ".py",
   "mimetype": "text/x-python",
   "name": "python",
   "nbconvert_exporter": "python",
   "pygments_lexer": "ipython3",
   "version": "3.6.8"
  }
 },
 "nbformat": 4,
 "nbformat_minor": 2
}
