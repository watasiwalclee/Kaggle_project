{
 "cells": [
  {
   "cell_type": "markdown",
   "metadata": {},
   "source": [
    "# 載入資料"
   ]
  },
  {
   "cell_type": "code",
   "execution_count": 46,
   "metadata": {
    "scrolled": true
   },
   "outputs": [
    {
     "name": "stdout",
     "output_type": "stream",
     "text": [
      "   pixel0  pixel1  pixel2  pixel3  pixel4  pixel5  pixel6  pixel7  pixel8  \\\n",
      "0       0       0       0       0       0       0       0       0       0   \n",
      "1       0       0       0       0       0       0       0       0       0   \n",
      "2       0       0       0       0       0       0       0       0       0   \n",
      "3       0       0       0       0       0       0       0       0       0   \n",
      "4       0       0       0       0       0       0       0       0       0   \n",
      "\n",
      "   pixel9  ...  pixel774  pixel775  pixel776  pixel777  pixel778  pixel779  \\\n",
      "0       0  ...         0         0         0         0         0         0   \n",
      "1       0  ...         0         0         0         0         0         0   \n",
      "2       0  ...         0         0         0         0         0         0   \n",
      "3       0  ...         0         0         0         0         0         0   \n",
      "4       0  ...         0         0         0         0         0         0   \n",
      "\n",
      "   pixel780  pixel781  pixel782  pixel783  \n",
      "0         0         0         0         0  \n",
      "1         0         0         0         0  \n",
      "2         0         0         0         0  \n",
      "3         0         0         0         0  \n",
      "4         0         0         0         0  \n",
      "\n",
      "[5 rows x 784 columns]\n",
      "train data size: (60000, 784)\n",
      "test data size: (5000, 784)\n"
     ]
    }
   ],
   "source": [
    "import pandas as pd\n",
    "import keras\n",
    "import os\n",
    "import matplotlib.pyplot as plt\n",
    "import numpy as np\n",
    "\n",
    "os.environ['CUDA_VISIBLE_DEVICES'] = ''\n",
    "\n",
    "train_data = pd.read_csv('data/train.csv')\n",
    "test_data = pd.read_csv('data/test.csv')\n",
    "\n",
    "\n",
    "# 紀錄train label及test data id\n",
    "train_y = train_data['label']\n",
    "test_id = test_data['id']\n",
    "\n",
    "# 將ID欄位去除\n",
    "train_data.drop(columns='label',inplace=True)\n",
    "test_data.drop(columns='id',inplace=True)\n",
    "\n",
    "print(train_data.head())\n",
    "print('train data size:',train_data.shape)\n",
    "print('test data size:',test_data.shape)\n",
    "\n",
    "# image normalized\n",
    "train_data = train_data / 255\n",
    "test_data = test_data / 255\n",
    "\n",
    "# reshape data size\n",
    "train_x = train_data.values.reshape(train_data.shape[0],28,28,1)\n",
    "train_y = pd.get_dummies(train_y)\n",
    "test_x = test_data.values.reshape(test_data.shape[0],28,28,1)\n"
   ]
  },
  {
   "cell_type": "markdown",
   "metadata": {},
   "source": [
    "# 圖像檢視"
   ]
  },
  {
   "cell_type": "code",
   "execution_count": 41,
   "metadata": {},
   "outputs": [
    {
     "data": {
      "image/png": "[encoded data removed]",
      "text/plain": [
       "<Figure size 1440x720 with 10 Axes>"
      ]
     },
     "metadata": {
      "needs_background": "light"
     },
     "output_type": "display_data"
    }
   ],
   "source": [
    "#print(train_data.loc[0])\n",
    "\n",
    "plt.figure(figsize=(20,10))\n",
    "for i in range(10):\n",
    "    img_data = np.array(train_data.loc[i])\n",
    "    img_data = np.reshape(img_data,(28,28))\n",
    "    plt.subplot(2,5,i+1)\n",
    "    plt.title('label'+str(train_y.loc[i]))\n",
    "    plt.imshow(img_data,cmap='binary')\n",
    "plt.show()"
   ]
  },
  {
   "cell_type": "markdown",
   "metadata": {},
   "source": [
    "# 建立模型"
   ]
  },
  {
   "cell_type": "code",
   "execution_count": 45,
   "metadata": {},
   "outputs": [
    {
     "name": "stderr",
     "output_type": "stream",
     "text": [
      "W1023 17:42:23.096593  4324 deprecation_wrapper.py:119] From c:\\users\\lclee\\appdata\\local\\programs\\python\\python36\\lib\\site-packages\\keras\\backend\\tensorflow_backend.py:3976: The name tf.nn.max_pool is deprecated. Please use tf.nn.max_pool2d instead.\n",
      "\n"
     ]
    }
   ],
   "source": [
    "layer_list = [keras.layers.Conv2D(50,kernel_size=(5,5),input_shape=(28,28,1),activation='relu'),\n",
    "             keras.layers.Conv2D(50,kernel_size=(3,3),activation='relu'),\n",
    "             keras.layers.MaxPool2D(2,2),\n",
    "             keras.layers.Conv2D(100,kernel_size=(3,3),activation='relu'),\n",
    "             keras.layers.Conv2D(100,kernel_size=(2,2),activation='relu'),\n",
    "             keras.layers.MaxPool2D(2,2),\n",
    "             keras.layers.Flatten(),\n",
    "             keras.layers.Dense(50,activation='relu'),\n",
    "             keras.layers.Dense(1,activation='softmax')]\n",
    "\n",
    "model = keras.models.Sequential(layer_list)\n",
    "#model.compile(loss='')"
   ]
  }
 ],
 "metadata": {
  "kernelspec": {
   "display_name": "Python 3",
   "language": "python",
   "name": "python3"
  },
  "language_info": {
   "codemirror_mode": {
    "name": "ipython",
    "version": 3
   },
   "file_extension": ".py",
   "mimetype": "text/x-python",
   "name": "python",
   "nbconvert_exporter": "python",
   "pygments_lexer": "ipython3",
   "version": "3.6.8"
  }
 },
 "nbformat": 4,
 "nbformat_minor": 2
}
