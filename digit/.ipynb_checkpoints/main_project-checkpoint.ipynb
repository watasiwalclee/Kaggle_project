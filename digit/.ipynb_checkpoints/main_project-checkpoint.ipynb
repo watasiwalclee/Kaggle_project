{
 "cells": [
  {
   "cell_type": "markdown",
   "metadata": {},
   "source": [
    "# 資料載入"
   ]
  },
  {
   "cell_type": "code",
   "execution_count": 1,
   "metadata": {},
   "outputs": [],
   "source": [
    "import pandas as pd\n",
    "import os\n",
    "\n",
    "os.environ['CUDA_VISIBLE_DEVICES'] = \"\"\n",
    "row_train = pd.read_csv('data/train.csv')\n",
    "row_test = pd.read_csv('data/test.csv')\n",
    "\n",
    "label = row_train['label']\n",
    "row_train = row_train.drop(columns=['label'])"
   ]
  },
  {
   "cell_type": "markdown",
   "metadata": {},
   "source": [
    "# 建模"
   ]
  },
  {
   "cell_type": "code",
   "execution_count": null,
   "metadata": {},
   "outputs": [
    {
     "name": "stderr",
     "output_type": "stream",
     "text": [
      "Using TensorFlow backend.\n"
     ]
    },
    {
     "name": "stdout",
     "output_type": "stream",
     "text": [
      "(42000, 28, 28, 1)\n",
      "(28000, 28, 28, 1)\n",
      "Model: \"sequential_1\"\n",
      "_________________________________________________________________\n",
      "Layer (type)                 Output Shape              Param #   \n",
      "=================================================================\n",
      "conv2d_1 (Conv2D)            (None, 24, 24, 50)        1300      \n",
      "_________________________________________________________________\n",
      "conv2d_2 (Conv2D)            (None, 22, 22, 50)        22550     \n",
      "_________________________________________________________________\n",
      "max_pooling2d_1 (MaxPooling2 (None, 11, 11, 50)        0         \n",
      "_________________________________________________________________\n",
      "conv2d_3 (Conv2D)            (None, 9, 9, 100)         45100     \n",
      "_________________________________________________________________\n",
      "max_pooling2d_2 (MaxPooling2 (None, 4, 4, 100)         0         \n",
      "_________________________________________________________________\n",
      "conv2d_4 (Conv2D)            (None, 2, 2, 200)         180200    \n",
      "_________________________________________________________________\n",
      "max_pooling2d_3 (MaxPooling2 (None, 1, 1, 200)         0         \n",
      "_________________________________________________________________\n",
      "flatten_1 (Flatten)          (None, 200)               0         \n",
      "_________________________________________________________________\n",
      "dense_1 (Dense)              (None, 200)               40200     \n",
      "_________________________________________________________________\n",
      "dense_2 (Dense)              (None, 10)                2010      \n",
      "=================================================================\n",
      "Total params: 291,360\n",
      "Trainable params: 291,360\n",
      "Non-trainable params: 0\n",
      "_________________________________________________________________\n",
      "Train on 31500 samples, validate on 10500 samples\n",
      "Epoch 1/50\n",
      "31500/31500 [==============================] - 7s 230us/step - loss: 0.2845 - accuracy: 0.9072 - val_loss: 0.0779 - val_accuracy: 0.9762\n",
      "Epoch 2/50\n",
      "31500/31500 [==============================] - 4s 139us/step - loss: 0.0607 - accuracy: 0.9813 - val_loss: 0.0611 - val_accuracy: 0.9807\n",
      "Epoch 3/50\n",
      "31500/31500 [==============================] - 4s 140us/step - loss: 0.0398 - accuracy: 0.9869 - val_loss: 0.0581 - val_accuracy: 0.9845\n",
      "Epoch 4/50\n",
      "31500/31500 [==============================] - 4s 141us/step - loss: 0.0295 - accuracy: 0.9905 - val_loss: 0.0454 - val_accuracy: 0.9872\n",
      "Epoch 5/50\n",
      "31500/31500 [==============================] - 4s 139us/step - loss: 0.0228 - accuracy: 0.9927 - val_loss: 0.0418 - val_accuracy: 0.9883\n",
      "Epoch 6/50\n",
      "31500/31500 [==============================] - 4s 141us/step - loss: 0.0219 - accuracy: 0.9923 - val_loss: 0.0399 - val_accuracy: 0.9890\n",
      "Epoch 7/50\n",
      "31500/31500 [==============================] - 4s 140us/step - loss: 0.0169 - accuracy: 0.9946 - val_loss: 0.0456 - val_accuracy: 0.9883\n",
      "Epoch 8/50\n",
      "31500/31500 [==============================] - 4s 139us/step - loss: 0.0144 - accuracy: 0.9951 - val_loss: 0.0364 - val_accuracy: 0.9894\n",
      "Epoch 9/50\n",
      "31500/31500 [==============================] - 4s 140us/step - loss: 0.0115 - accuracy: 0.9963 - val_loss: 0.0587 - val_accuracy: 0.9828\n",
      "Epoch 10/50\n",
      "31500/31500 [==============================] - 4s 139us/step - loss: 0.0156 - accuracy: 0.9945 - val_loss: 0.0408 - val_accuracy: 0.9897\n",
      "Epoch 11/50\n",
      "31500/31500 [==============================] - 4s 139us/step - loss: 0.0110 - accuracy: 0.9963 - val_loss: 0.0426 - val_accuracy: 0.9891\n",
      "Epoch 12/50\n",
      "31500/31500 [==============================] - 4s 139us/step - loss: 0.0072 - accuracy: 0.9979 - val_loss: 0.0383 - val_accuracy: 0.9891\n",
      "Epoch 13/50\n",
      "31500/31500 [==============================] - 4s 139us/step - loss: 0.0074 - accuracy: 0.9977 - val_loss: 0.0475 - val_accuracy: 0.9878\n",
      "Epoch 14/50\n",
      "31500/31500 [==============================] - 4s 139us/step - loss: 0.0116 - accuracy: 0.9961 - val_loss: 0.0398 - val_accuracy: 0.9901\n",
      "Epoch 15/50\n",
      "31500/31500 [==============================] - 4s 139us/step - loss: 0.0063 - accuracy: 0.9981 - val_loss: 0.0499 - val_accuracy: 0.9882\n",
      "Epoch 16/50\n",
      "31500/31500 [==============================] - 4s 139us/step - loss: 0.0098 - accuracy: 0.9963 - val_loss: 0.0491 - val_accuracy: 0.9888\n",
      "Epoch 17/50\n",
      "31500/31500 [==============================] - 4s 139us/step - loss: 0.0094 - accuracy: 0.9972 - val_loss: 0.0307 - val_accuracy: 0.9924\n",
      "Epoch 18/50\n",
      "19300/31500 [=================>............] - ETA: 1s - loss: 0.0052 - accuracy: 0.9985"
     ]
    }
   ],
   "source": [
    "import keras\n",
    "import numpy as np\n",
    "from sklearn.model_selection import train_test_split\n",
    "from keras import layers\n",
    "\n",
    "# normalized\n",
    "train_x = row_train/255\n",
    "test_x = row_test/255\n",
    "label_vec = pd.get_dummies(label)\n",
    "\n",
    "train_x_array = train_x.values.reshape(train_x.shape[0],28,28,1)\n",
    "test_x_array = test_x.values.reshape(test_x.shape[0],28,28,1)\n",
    "print(train_x_array.shape)\n",
    "print(test_x_array.shape)\n",
    "\n",
    "# 分割資料\n",
    "train_x, val_x, train_y, val_y = train_test_split(train_x_array,label_vec)\n",
    "\n",
    "layer_list = [layers.Conv2D(50,kernel_size=(5,5),input_shape=(28,28,1),activation='relu'),\n",
    "              layers.Conv2D(50,kernel_size=(3,3),activation='relu'),\n",
    "              layers.MaxPool2D(2,2),\n",
    "              layers.Conv2D(100,kernel_size=(3,3),activation='relu'),\n",
    "              layers.MaxPool2D(2,2),\n",
    "              layers.Conv2D(200,kernel_size=(3,3),activation='relu'),\n",
    "              layers.MaxPool2D(2,2),\n",
    "              layers.Flatten(),\n",
    "              layers.Dense(200,activation='relu'),\n",
    "              layers.Dense(10,activation='softmax')]\n",
    "\n",
    "model = keras.models.Sequential(layer_list)\n",
    "model.compile(loss='categorical_crossentropy',\n",
    "             optimizer=keras.optimizers.Adam(),\n",
    "             metrics=['accuracy'])\n",
    "\n",
    "model.summary()\n",
    "training_process = model.fit(train_x,train_y,\n",
    "                             epochs=50,\n",
    "                             batch_size=100,\n",
    "                             validation_data=(val_x,val_y))\n"
   ]
  },
  {
   "cell_type": "code",
   "execution_count": null,
   "metadata": {},
   "outputs": [],
   "source": [
    "import matplotlib.pyplot as plt\n",
    "\n",
    "plt.figure(figsize=(20,16))\n",
    "plt.plot(training_process.history['acc'])\n",
    "plt.plot(training_process.history['val_acc'])\n",
    "plt.xlabel('epochs')\n",
    "plt.ylabel('acc')\n",
    "plt.title('Accuracy')\n",
    "plt.show()"
   ]
  },
  {
   "cell_type": "code",
   "execution_count": null,
   "metadata": {},
   "outputs": [],
   "source": [
    "\n",
    "pred = np.argmax(model.predict(test_x_array), axis=1)\n",
    "\n",
    "index = pd.DataFrame(range(1,test_x.shape[0]+1),columns=['ImageId'])\n",
    "pred = pd.DataFrame(pred,columns=['Label'])\n",
    "\n",
    "res_df = pd.concat([index,pred],axis=1)\n",
    "res_df.to_csv('res.csv',index=False)\n"
   ]
  }
 ],
 "metadata": {
  "kernelspec": {
   "display_name": "Python 3",
   "language": "python",
   "name": "python3"
  },
  "language_info": {
   "codemirror_mode": {
    "name": "ipython",
    "version": 3
   },
   "file_extension": ".py",
   "mimetype": "text/x-python",
   "name": "python",
   "nbconvert_exporter": "python",
   "pygments_lexer": "ipython3",
   "version": "3.7.7"
  }
 },
 "nbformat": 4,
 "nbformat_minor": 2
}
